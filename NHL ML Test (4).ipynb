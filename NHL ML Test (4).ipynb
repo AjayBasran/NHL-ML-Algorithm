{
 "cells": [
  {
   "cell_type": "markdown",
   "id": "dc481f90",
   "metadata": {},
   "source": [
    "<h1> Ajay Basran </h1>\n",
    "<h3> Date start: 2022-06-01 \n",
    "<br>\n",
    "<br> \n",
    "NHL Teams Stanley Cup Prediction Algorithm </h3>"
   ]
  },
  {
   "cell_type": "markdown",
   "id": "28c090bd",
   "metadata": {},
   "source": [
    "**Necessary Libraries**"
   ]
  },
  {
   "cell_type": "code",
   "execution_count": 1,
   "id": "1fd59a66",
   "metadata": {},
   "outputs": [],
   "source": [
    "import numpy as np\n",
    "import pandas as pd\n",
    "import matplotlib.pyplot as plt\n",
    "from urllib.request import Request, urlopen\n",
    "from bs4 import BeautifulSoup\n",
    "import requests\n",
    "import math as m\n",
    "import sys\n",
    "from datetime import date\n",
    "\n",
    "#OPG Side\n",
    "import ssl"
   ]
  },
  {
   "cell_type": "markdown",
   "id": "94ca5b02",
   "metadata": {},
   "source": [
    "**1. Data Acquisition**"
   ]
  },
  {
   "cell_type": "code",
   "execution_count": 2,
   "id": "805b0e4d",
   "metadata": {},
   "outputs": [
    {
     "name": "stdout",
     "output_type": "stream",
     "text": [
      "\n",
      "\u001b[0;31mSSLError: \u001b[0mHTTPSConnectionPool(host='www.hockey-reference.com', port=443): Max retries exceeded with url: /boxscores/?year=2022&month=06&day=15 (Caused by SSLError(SSLEOFError(8, 'EOF occurred in violation of protocol (_ssl.c:1131)')))\n",
      "\n",
      "Error found at \u001b[0;36mline 11\u001b[0m in \u001b[0;32mcell 2\u001b[0m.\n"
     ]
    },
    {
     "data": {
      "application/vnd.jupyter.widget-view+json": {
       "model_id": "ec619af3542d4958b9dc3ceb5b955047",
       "version_major": 2,
       "version_minor": 0
      },
      "text/plain": [
       "Button(description='Click to show stack trace', layout=Layout(height='auto', width='auto'), style=ButtonStyle(…"
      ]
     },
     "metadata": {},
     "output_type": "display_data"
    }
   ],
   "source": [
    "#URL Setup\n",
    "today = str(date.today()).split(\"-\")\n",
    "\n",
    "url = \"https://www.hockey-reference.com/boxscores/\"\n",
    "url1 = \"https://www.hockey-reference.com/boxscores/?year=\" + today[0] + \"&month=\" + today[1] + \"&day=\" + today[2]\n",
    "url2 = \"https://www.nhl.com/standings/2021/division\"\n",
    "url_test = \"https://www.theweathernetwork.com/ca\"\n",
    "\n",
    "# print(url)\n",
    "# print()\n",
    "\n",
    "hdr = {'User-Agent': 'Mozilla/5.0'} #Defining User Agent to initiate communication\n",
    "\n",
    "#Requesting URl\n",
    "try:\n",
    "    data = requests.get(url1).text\n",
    "except ssl.SSLError:\n",
    "    data = requests.get(url1, verify = False).text\n",
    "    \n",
    "#req = Request(url,headers=hdr)\n",
    "#page = urlopen(req)\n",
    "\n",
    "soup = BeautifulSoup(data, \"html.parser\") #pulling data \n",
    "\n",
    "#Creating list with all tables\n",
    "tables = soup.find_all('table')\n",
    "\n",
    "#Looking for the team stats within data-stat':\"team_name\", 'class': 'left ','id': 'standings_EAS'\n",
    "table = soup.find('table', {'data-stat':\"team_name\", 'class': 'left ','id': 'standings_EAS' })\n",
    "\n",
    "# Defining of the dataframe\n",
    "# df = pd.DataFrame(columns=['Team', 'GP', 'W', 'L', 'OL', 'PTS', 'GF', 'GA', 'RPt%', 'RW', 'RgRec', 'RgPt%'])\n",
    "\n",
    "#Defining lists\n",
    "teams = []\n",
    "team_stats = []\n",
    "team_names = []\n",
    "headers = ['Team',\n",
    "           'Games played',\n",
    "           'Wins',\n",
    "           'Losses',\n",
    "           'Overtime Losses',\n",
    "           'Points',\n",
    "           'Goals For',\n",
    "           'Goals Against',\n",
    "           'Goal Differential',\n",
    "           'RPT_perc',\n",
    "           'RW',\n",
    "           'RgRec',\n",
    "           'RgPt_perc']\n",
    "\n",
    "# Collecting data\n",
    "for tr in soup.find_all('tr', table):    \n",
    "    \n",
    "    # Find all data for each column\n",
    "    #if th found -> columns[0].text.strip()\n",
    "    columns = tr.find_all('td')\n",
    "    column_headers = tr.find_all('th')\n",
    "    #print(columns)\n",
    "    #print()\n",
    "    \n",
    "    row_items = 11 #Stats in row that need to be targeted\n",
    "    if (len(columns) < row_items):\n",
    "        pass\n",
    "    else:\n",
    "        #Gathering Team Stats by parsing through td\n",
    "        for td in columns:\n",
    "            #Teams = columns[0].text.strip()\n",
    "            GamesPlayed = columns[0].text.strip()\n",
    "            Wins = columns[1].text.strip()\n",
    "            Losses = columns[2].text.strip()\n",
    "            OvertimeLosses = columns[3].text.strip()\n",
    "            Points = columns[4].text.strip()\n",
    "            GoalsFor = columns[5].text.strip()\n",
    "            GoalsAgainst = columns[6].text.strip()\n",
    "            RPT_perc = columns[7].text.strip()\n",
    "            RW = columns[8].text.strip()\n",
    "            RgRec = columns[9].text.strip()\n",
    "            RgPt_perc = columns[10].text.strip()\n",
    "            #team_names.append(Teams)\n",
    "\n",
    "            team_stats.append(GamesPlayed)\n",
    "            team_stats.append(Wins)\n",
    "            team_stats.append(Losses)\n",
    "            team_stats.append(OvertimeLosses)\n",
    "            team_stats.append(Points)\n",
    "            team_stats.append(GoalsFor)\n",
    "            team_stats.append(GoalsAgainst)\n",
    "            team_stats.append(RPT_perc)\n",
    "            team_stats.append(RW)\n",
    "            team_stats.append(RgRec)\n",
    "            team_stats.append(RgPt_perc)\n",
    "            \n",
    "            teams = list(team_stats) #copying team_stats list into teams because ???\n",
    "\n",
    "            #print(team_stats)\n",
    "            break\n",
    "            \n",
    "        #Gathering Team Names by parsing through th\n",
    "        for th in column_headers:\n",
    "            team_names.append(column_headers[0].text.strip())\n",
    "            break\n",
    "            \n",
    "team_stats.clear()\n",
    "\n",
    "# print(team_names)\n",
    "# print(team_stats)\n",
    "# print()\n",
    "\n",
    "#Creating file to ???\n",
    "file = open(\"data.txt\", \"w\")\n",
    "                 \n",
    "for elem in range(len(teams)):\n",
    "    try:\n",
    "        if (teams[elem+1] == \"82\"): #Splitting by games played total, convert this to variable later\n",
    "            file.write(teams[elem] + \"\\n\")\n",
    "        else:\n",
    "            file.write(teams[elem] + \" \")\n",
    "    except IndexError:\n",
    "        file.write(teams[elem])\n",
    "    \n",
    "file.close()\n",
    "\n",
    "f = open(\"data.txt\", \"r\")\n",
    "\n",
    "#Reading from data.txt to create list of lists for easy access of each team and their stats\n",
    "list_of_lists = []\n",
    "for line in f:\n",
    "    stripped_line = line.strip()\n",
    "    line_list = stripped_line.split()\n",
    "    list_of_lists.append(line_list)\n",
    "f.close()\n",
    "\n",
    "#Cleaning Team Names as they have astericks \n",
    "for elem in range(len(list_of_lists)):\n",
    "    list_of_lists[elem] = [team_names[elem].replace(\"*\", \"\")] + list_of_lists[elem]\n",
    "    GD = list_of_lists[elem][6] - list_of_lists[elem][6]\n",
    "        \n",
    "list_of_lists.insert(0,headers) #Inserting team names infront of lists with the associated stats...\n",
    "                            #...because the 2 were separate before\n",
    "\n",
    "#Adding more stats\n",
    "for elem in range(1:len(list_of_lists)):\n",
    "    GD = list_of_lists[elem][6] - list_of_lists[elem][7]\n",
    "    GD.insert(list_of_lists[elem][8])\n",
    "\n",
    "pd.DataFrame(list_of_lists)\n",
    "\n",
    "#Now only keep data that is absolutely necessary! Do the rest as calculations!"
   ]
  },
  {
   "cell_type": "code",
   "execution_count": 3,
   "id": "36522e1e",
   "metadata": {},
   "outputs": [
    {
     "name": "stdout",
     "output_type": "stream",
     "text": [
      "\n",
      "\u001b[0;31mSSLError: \u001b[0mHTTPSConnectionPool(host='www.hockey-reference.com', port=443): Max retries exceeded with url: /boxscores/?year=2022&month=06&day=15 (Caused by SSLError(SSLEOFError(8, 'EOF occurred in violation of protocol (_ssl.c:1131)')))\n",
      "\n",
      "Error found at \u001b[0;36mline 25\u001b[0m in \u001b[0;32mcell 3\u001b[0m.\n"
     ]
    },
    {
     "data": {
      "application/vnd.jupyter.widget-view+json": {
       "model_id": "3bb5b598da3e449ea47d678efc1a61f5",
       "version_major": 2,
       "version_minor": 0
      },
      "text/plain": [
       "Button(description='Click to show stack trace', layout=Layout(height='auto', width='auto'), style=ButtonStyle(…"
      ]
     },
     "metadata": {},
     "output_type": "display_data"
    }
   ],
   "source": [
    "import requests\n",
    "from requests import adapters\n",
    "import ssl\n",
    "from urllib3 import poolmanager\n",
    "from datetime import date\n",
    "    \n",
    "                                \"\"\" Code to troubleshoot SSLError, Did not work\"\"\"\n",
    "\n",
    "today = str(date.today()).split(\"-\")\n",
    "TARGET= \"https://www.hockey-reference.com/boxscores/?year=\" + today[0] + \"&month=\" + today[1] + \"&day=\" + today[2]\n",
    "\n",
    "class TLSAdapter(adapters.HTTPAdapter):\n",
    "\n",
    "    def init_poolmanager(self, connections, maxsize, block=False):\n",
    "        \"\"\"Create and initialize the urllib3 PoolManager.\"\"\"\n",
    "        ctx = ssl.create_default_context()\n",
    "        ctx.set_ciphers('DEFAULT@SECLEVEL=1')\n",
    "        self.poolmanager = poolmanager.PoolManager(\n",
    "                num_pools=connections,\n",
    "                maxsize=maxsize,\n",
    "                block=block,\n",
    "                ssl_version=ssl.PROTOCOL_TLS,\n",
    "                ssl_context=ctx)\n",
    "\n",
    "session = requests.session()\n",
    "session.mount('https://', TLSAdapter())\n",
    "session.get(TARGET)"
   ]
  },
  {
   "cell_type": "code",
   "execution_count": 60,
   "id": "9dad08bd",
   "metadata": {},
   "outputs": [
    {
     "data": {
      "text/plain": [
       "['Toronto Maple Leafs',\n",
       " '82',\n",
       " '54',\n",
       " '21',\n",
       " '7',\n",
       " '115',\n",
       " '315',\n",
       " '253',\n",
       " '.646',\n",
       " '45',\n",
       " '45-21-16',\n",
       " '.646']"
      ]
     },
     "execution_count": 60,
     "metadata": {},
     "output_type": "execute_result"
    }
   ],
   "source": [
    "list_of_lists[2]"
   ]
  },
  {
   "cell_type": "code",
   "execution_count": 4,
   "id": "8b135de2",
   "metadata": {},
   "outputs": [
    {
     "name": "stdout",
     "output_type": "stream",
     "text": [
      "\n",
      "\u001b[0;31mNameError: \u001b[0mname 'list_of_lists' is not defined\n",
      "\n",
      "Error found at \u001b[0;36mline 8\u001b[0m in \u001b[0;32mcell 4\u001b[0m.\n"
     ]
    },
    {
     "data": {
      "application/vnd.jupyter.widget-view+json": {
       "model_id": "0902ebfeef0b4b34989aa276df82f7e8",
       "version_major": 2,
       "version_minor": 0
      },
      "text/plain": [
       "Button(description='Click to show stack trace', layout=Layout(height='auto', width='auto'), style=ButtonStyle(…"
      ]
     },
     "metadata": {},
     "output_type": "display_data"
    }
   ],
   "source": [
    "\"\"\"Figuring out the Playoff Teams\"\"\"\n",
    "\n",
    "\"\"\"2 Wild card teams from each conference are decided.\"\"\"\n",
    "playoffs_list_east = []\n",
    "playoffs_list_west = []\n",
    "\n",
    "pts = 0\n",
    "for elem in range(1,len(list_of_lists)):\n",
    "    if elem == 1 or elem == 2 or elem == 3 or elem == 9 or elem == 10 or elem == 11:\n",
    "        playoffs_list_east.append(list_of_lists[elem])\n",
    "    if elem == 17 or elem == 18 or elem == 19 or elem == 25 or elem == 26 or elem == 27:\n",
    "        playoffs_list_west.append(list_of_lists[elem])\n",
    "\n",
    "WildCardEastlist = listing[4:8] + listing[12:16]\n",
    "WildCardWestlist = listing[20:24] + listing[28:32]\n",
    "\n",
    "tr_a = list(zip(*WildCardEastlist))\n",
    "result = [(row.index(max(row)),index) for index, row in enumerate(tr_a)]\n",
    "WildCardEA = WildCardEastlist.pop(result)\n",
    "playoffs_list_east.append(WildCardEA)\n",
    "\n",
    "tr_a = list(zip(*WildCardEastlist))\n",
    "result = [(row.index(max(row)),index) for index, row in enumerate(tr_a)]\n",
    "WildCardEB = WildCardEastlist.pop(result)\n",
    "playoffs_list_east.append(WildCardEB)\n",
    "\n",
    "tr_a = list(zip(*WildCardWestlist))\n",
    "result = [(row.index(max(row)),index) for index, row in enumerate(tr_a)]\n",
    "WildCardWA = WildCardWestlist.pop(result)\n",
    "playoffs_list_east.append(WildCardWA\n",
    "                         )\n",
    "tr_a = list(zip(*WildCardWestlist))\n",
    "result = [(row.index(max(row)),index) for index, row in enumerate(tr_a)]\n",
    "WildCardWB = WildCardWestlist.pop(result)\n",
    "playoffs_list_east.append(WildCardWB)"
   ]
  },
  {
   "cell_type": "code",
   "execution_count": 70,
   "id": "9eaf6c76",
   "metadata": {},
   "outputs": [
    {
     "data": {
      "text/plain": [
       "[['Colorado Avalanche',\n",
       "  '82',\n",
       "  '56',\n",
       "  '19',\n",
       "  '7',\n",
       "  '119',\n",
       "  '312',\n",
       "  '234',\n",
       "  '.671',\n",
       "  '46',\n",
       "  '46-19-17',\n",
       "  '.665'],\n",
       " ['Minnesota Wild',\n",
       "  '82',\n",
       "  '53',\n",
       "  '22',\n",
       "  '7',\n",
       "  '113',\n",
       "  '310',\n",
       "  '253',\n",
       "  '.640',\n",
       "  '37',\n",
       "  '37-22-23',\n",
       "  '.591'],\n",
       " ['St. Louis Blues',\n",
       "  '82',\n",
       "  '49',\n",
       "  '22',\n",
       "  '11',\n",
       "  '109',\n",
       "  '311',\n",
       "  '242',\n",
       "  '.604',\n",
       "  '43',\n",
       "  '43-22-17',\n",
       "  '.628'],\n",
       " ['Calgary Flames',\n",
       "  '82',\n",
       "  '50',\n",
       "  '21',\n",
       "  '11',\n",
       "  '111',\n",
       "  '293',\n",
       "  '208',\n",
       "  '.610',\n",
       "  '44',\n",
       "  '44-21-17',\n",
       "  '.640'],\n",
       " ['Edmonton Oilers',\n",
       "  '82',\n",
       "  '49',\n",
       "  '27',\n",
       "  '6',\n",
       "  '104',\n",
       "  '290',\n",
       "  '252',\n",
       "  '.573',\n",
       "  '38',\n",
       "  '38-27-17',\n",
       "  '.567'],\n",
       " ['Los Angeles Kings',\n",
       "  '82',\n",
       "  '44',\n",
       "  '27',\n",
       "  '11',\n",
       "  '99',\n",
       "  '239',\n",
       "  '236',\n",
       "  '.537',\n",
       "  '35',\n",
       "  '35-27-20',\n",
       "  '.549']]"
      ]
     },
     "execution_count": 70,
     "metadata": {},
     "output_type": "execute_result"
    }
   ],
   "source": [
    "playoffs_list_west\n",
    "#Missing Predators and Dallas from West\n",
    "\"\"\"\n",
    "1 vs Wild Card A\n",
    "2 vs 3\n",
    "4 vs Wild Card B\n",
    "5 vs 6\n",
    "\n",
    "where Wild Card A pts < Wild Card B pts\n",
    "\"\"\""
   ]
  },
  {
   "cell_type": "code",
   "execution_count": 71,
   "id": "bdb57c24",
   "metadata": {},
   "outputs": [
    {
     "data": {
      "text/plain": [
       "[['Florida Panthers',\n",
       "  '82',\n",
       "  '58',\n",
       "  '18',\n",
       "  '6',\n",
       "  '122',\n",
       "  '340',\n",
       "  '246',\n",
       "  '.713',\n",
       "  '42',\n",
       "  '42-18-22',\n",
       "  '.646'],\n",
       " ['Toronto Maple Leafs',\n",
       "  '82',\n",
       "  '54',\n",
       "  '21',\n",
       "  '7',\n",
       "  '115',\n",
       "  '315',\n",
       "  '253',\n",
       "  '.646',\n",
       "  '45',\n",
       "  '45-21-16',\n",
       "  '.646'],\n",
       " ['Tampa Bay Lightning',\n",
       "  '82',\n",
       "  '51',\n",
       "  '23',\n",
       "  '8',\n",
       "  '110',\n",
       "  '287',\n",
       "  '233',\n",
       "  '.640',\n",
       "  '39',\n",
       "  '39-23-20',\n",
       "  '.598'],\n",
       " ['Carolina Hurricanes',\n",
       "  '82',\n",
       "  '54',\n",
       "  '20',\n",
       "  '8',\n",
       "  '116',\n",
       "  '278',\n",
       "  '202',\n",
       "  '.665',\n",
       "  '47',\n",
       "  '47-20-15',\n",
       "  '.665'],\n",
       " ['New York Rangers',\n",
       "  '82',\n",
       "  '52',\n",
       "  '24',\n",
       "  '6',\n",
       "  '110',\n",
       "  '254',\n",
       "  '207',\n",
       "  '.628',\n",
       "  '44',\n",
       "  '44-24-14',\n",
       "  '.622'],\n",
       " ['Pittsburgh Penguins',\n",
       "  '82',\n",
       "  '46',\n",
       "  '25',\n",
       "  '11',\n",
       "  '103',\n",
       "  '272',\n",
       "  '229',\n",
       "  '.585',\n",
       "  '37',\n",
       "  '37-25-20',\n",
       "  '.573']]"
      ]
     },
     "execution_count": 71,
     "metadata": {},
     "output_type": "execute_result"
    }
   ],
   "source": [
    "playoffs_list_east\n",
    "#Missing Capitals and Bruins from East\n",
    "\"\"\"\n",
    "1 vs Wild Card A\n",
    "2 vs 3\n",
    "4 vs Wild Card B\n",
    "5 vs 6\n",
    "\n",
    "where Wild Card A pts < Wild Card B pts\n",
    "\"\"\""
   ]
  },
  {
   "cell_type": "markdown",
   "id": "e8795eef",
   "metadata": {},
   "source": [
    "**2. Data Cleansing**"
   ]
  },
  {
   "cell_type": "markdown",
   "id": "3c8b4f9b",
   "metadata": {},
   "source": [
    "**3. ML Algorithm Building**"
   ]
  },
  {
   "cell_type": "markdown",
   "id": "52dc441c",
   "metadata": {},
   "source": [
    "**4. Model Testing**"
   ]
  },
  {
   "cell_type": "markdown",
   "id": "62d84518",
   "metadata": {},
   "source": [
    "**5. Data Visualization**"
   ]
  },
  {
   "cell_type": "code",
   "execution_count": 3,
   "id": "1ec35f01",
   "metadata": {},
   "outputs": [
    {
     "name": "stdout",
     "output_type": "stream",
     "text": [
      "<td class=\"right\" data-stat=\"points_pct_reg\">.341</td>\n"
     ]
    }
   ],
   "source": [
    "print(columns[10])"
   ]
  },
  {
   "cell_type": "code",
   "execution_count": null,
   "id": "3ad356a0",
   "metadata": {},
   "outputs": [],
   "source": [
    "# html_text = soup.get_text()\n",
    "# html_text\n",
    "# with open(\"html.txt\", \"w\", encoding=\"utf-8\") as f:\n",
    "#     f.write(soup)\n",
    "# f.close()"
   ]
  },
  {
   "cell_type": "code",
   "execution_count": null,
   "id": "6cb9ac1e",
   "metadata": {},
   "outputs": [],
   "source": [
    "# https://webdocs.cs.ualberta.ca/~alona/dm_projs/nhl_final_report.pdf\n",
    "\n",
    "\"\"\"\n",
    "Create single instance for each series instead of comparing 2 lists for each series.\n",
    "\n",
    "Statistics to add:\n",
    "Wins \n",
    "Losses\n",
    "Overtime Losses\n",
    "Points\n",
    "\n",
    "Shot Percentage\n",
    "Save Percentage\n",
    "\n",
    "Goals For\n",
    "Goals Against\n",
    "Goal Differential\n",
    "\n",
    "Power Play Success Ratio\n",
    "Penalty Kill Success Ratio\n",
    "\n",
    "Win Streak\n",
    "Loss Streak\n",
    "RPt%\n",
    "Regulation Wins\n",
    "Regulation Time Record\n",
    "RgPt%\n",
    "\n",
    "\n",
    "\"\"\""
   ]
  }
 ],
 "metadata": {
  "kernelspec": {
   "display_name": "Python 3 (ipykernel)",
   "language": "python",
   "name": "python3"
  },
  "language_info": {
   "codemirror_mode": {
    "name": "ipython",
    "version": 3
   },
   "file_extension": ".py",
   "mimetype": "text/x-python",
   "name": "python",
   "nbconvert_exporter": "python",
   "pygments_lexer": "ipython3",
   "version": "3.8.12"
  }
 },
 "nbformat": 4,
 "nbformat_minor": 5
}
